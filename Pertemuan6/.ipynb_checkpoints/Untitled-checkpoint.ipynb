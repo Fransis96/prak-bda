{
 "cells": [
  {
   "cell_type": "code",
   "execution_count": 3,
   "id": "ed7dbd51-b8d0-4551-8c38-debbffcd1e25",
   "metadata": {},
   "outputs": [],
   "source": [
    "token=\"7788777031:AAEytRIukC_4PPha7zXyoep8bt0CgW4vR9A\""
   ]
  },
  {
   "cell_type": "code",
   "execution_count": 4,
   "id": "96378865-62f6-4884-902f-2b158f23ffd4",
   "metadata": {},
   "outputs": [
    {
     "ename": "ImportError",
     "evalue": "cannot import name 'Update' from 'telegram' (C:\\Users\\agnes\\AppData\\Local\\Programs\\Python\\Python312\\Lib\\site-packages\\telegram\\__init__.py)",
     "output_type": "error",
     "traceback": [
      "\u001b[1;31m---------------------------------------------------------------------------\u001b[0m",
      "\u001b[1;31mImportError\u001b[0m                               Traceback (most recent call last)",
      "Cell \u001b[1;32mIn[4], line 1\u001b[0m\n\u001b[1;32m----> 1\u001b[0m \u001b[38;5;28;01mfrom\u001b[39;00m \u001b[38;5;21;01mtelegram\u001b[39;00m \u001b[38;5;28;01mimport\u001b[39;00m Update\n\u001b[0;32m      2\u001b[0m \u001b[38;5;28;01mfrom\u001b[39;00m \u001b[38;5;21;01mtelegram\u001b[39;00m\u001b[38;5;21;01m.\u001b[39;00m\u001b[38;5;21;01mext\u001b[39;00m \u001b[38;5;28;01mimport\u001b[39;00m Application, CommandHandler, ContextTypes\n\u001b[0;32m      4\u001b[0m \u001b[38;5;28;01masync\u001b[39;00m \u001b[38;5;28;01mdef\u001b[39;00m \u001b[38;5;21mstart\u001b[39m(update: Update, context: ContextTypes\u001b[38;5;241m.\u001b[39mDEFAULT_TYPE):\n",
      "\u001b[1;31mImportError\u001b[0m: cannot import name 'Update' from 'telegram' (C:\\Users\\agnes\\AppData\\Local\\Programs\\Python\\Python312\\Lib\\site-packages\\telegram\\__init__.py)"
     ]
    }
   ],
   "source": [
    "from telegram import Update\n",
    "from telegram.ext import Application, CommandHandler, ContextTypes\n",
    "\n",
    "async def start(update: Update, context: ContextTypes.DEFAULT_TYPE):\n",
    "    await update.message.reply_text(\"Halo! Aku bot Telegram!\")\n",
    "\n",
    "app = Application.builder().token(token).build()\n",
    "app.add_handler(CommandHandler(\"start\", start))\n",
    "app.run_polling()"
   ]
  },
  {
   "cell_type": "code",
   "execution_count": null,
   "id": "5132cbe3-db81-48b4-b352-a42584db45c8",
   "metadata": {},
   "outputs": [],
   "source": []
  }
 ],
 "metadata": {
  "kernelspec": {
   "display_name": "Python 3 (ipykernel)",
   "language": "python",
   "name": "python3"
  },
  "language_info": {
   "codemirror_mode": {
    "name": "ipython",
    "version": 3
   },
   "file_extension": ".py",
   "mimetype": "text/x-python",
   "name": "python",
   "nbconvert_exporter": "python",
   "pygments_lexer": "ipython3",
   "version": "3.12.4"
  }
 },
 "nbformat": 4,
 "nbformat_minor": 5
}
