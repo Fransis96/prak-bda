{
 "cells": [
  {
   "cell_type": "markdown",
   "id": "0459a3a2-33b9-4aad-948d-bacaf2d50c82",
   "metadata": {},
   "source": [
    "# **``Test cleaning data ``**"
   ]
  },
  {
   "cell_type": "markdown",
   "id": "065b6a4e-00f0-443a-b163-42c96bc3c815",
   "metadata": {},
   "source": [
    "1. Import modul, muat data dan tampilkan lima data pertama"
   ]
  },
  {
   "cell_type": "code",
   "execution_count": null,
   "id": "3350868a-d899-483d-9340-0420d7538188",
   "metadata": {},
   "outputs": [],
   "source": [
    "import pandas as pd\n",
    "import numpy as np\n",
    "\n",
    "data_olah = \"insurance1.csv\"\n",
    "dataset = pd.read_csv(data_olah)\n",
    "dataset.head()"
   ]
  },
  {
   "cell_type": "markdown",
   "id": "5ae451fc-845a-4c5b-a91f-5616ef2b68a8",
   "metadata": {},
   "source": [
    "``TERDAPAT NILAI NaN dan TYPE YANG TIDAK SESUAI``"
   ]
  },
  {
   "cell_type": "markdown",
   "id": "2fa55d11-04d8-435e-b3af-a3a8fdfecd1f",
   "metadata": {},
   "source": [
    "2. Identifikasi missing values"
   ]
  },
  {
   "cell_type": "code",
   "execution_count": null,
   "id": "482b60b1-602b-4f1e-a01d-ee9c31b9302e",
   "metadata": {},
   "outputs": [],
   "source": [
    "print(\"Jumlah missing values disetiap kolom: \")\n",
    "print(dataset.isnull().sum())"
   ]
  },
  {
   "cell_type": "markdown",
   "id": "b71b4a93-4926-4715-9de0-ed35fdff393c",
   "metadata": {},
   "source": [
    "3. Hitung persentase missing values disetiap kolom"
   ]
  },
  {
   "cell_type": "code",
   "execution_count": null,
   "id": "d2217a41-f885-4874-b415-d4845172a7b4",
   "metadata": {},
   "outputs": [],
   "source": [
    "persentase_missing = dataset.isnull().sum() / len(dataset) * 100\n",
    "\n",
    "print(\"Persentase missing values disetiap kolom :\")\n",
    "print(persentase_missing)"
   ]
  },
  {
   "cell_type": "markdown",
   "id": "0847f181-46ab-47c7-a856-0095e632aba4",
   "metadata": {},
   "source": [
    "<hr>\n",
    "\n",
    "> ``Karena jumlah missing values disetiap kolom sedikit, jadi``  \n",
    "**``kita lakukan drop untuk menghapus baris yang mengandung missing values``** \n",
    "    \n",
    "</b><hr>"
   ]
  },
  {
   "cell_type": "markdown",
   "id": "de66c537-5c80-4853-b00f-ee349c730d46",
   "metadata": {},
   "source": [
    "4. Penanganan ``missing values``"
   ]
  },
  {
   "cell_type": "code",
   "execution_count": null,
   "id": "7804d936-ffda-4cdd-9405-ac503323b7bf",
   "metadata": {},
   "outputs": [],
   "source": [
    "# Menghapus baris yang mengandung missing values\n",
    "dataset1 = dataset.dropna()"
   ]
  },
  {
   "cell_type": "markdown",
   "id": "5d081cef-2ead-4aae-bb28-27d8936867b0",
   "metadata": {},
   "source": [
    "``Pengecekan ulang``"
   ]
  },
  {
   "cell_type": "code",
   "execution_count": null,
   "id": "6f01f2a3-c125-4acc-9323-3a8c537602da",
   "metadata": {},
   "outputs": [],
   "source": [
    "print(\"Jumlah missing values disetiap kolom: \")\n",
    "print(dataset1.isnull().sum())"
   ]
  },
  {
   "cell_type": "markdown",
   "id": "b5854764-1f1a-4d9d-9149-fe7850e0ef8d",
   "metadata": {},
   "source": [
    "5. Melihat informasi ``dataset1``"
   ]
  },
  {
   "cell_type": "code",
   "execution_count": null,
   "id": "49772232-eea0-4660-98b3-0d1997b0b746",
   "metadata": {},
   "outputs": [],
   "source": [
    "dataset1.info()"
   ]
  },
  {
   "cell_type": "markdown",
   "id": "246c9419-2955-4163-89d1-00a7fe5947c9",
   "metadata": {},
   "source": [
    "``Tipe data pada kolom charges``**``belum sesuai``**"
   ]
  },
  {
   "cell_type": "code",
   "execution_count": null,
   "id": "665e7548-5b61-42a8-aae6-d57dd1f1cab8",
   "metadata": {},
   "outputs": [],
   "source": [
    "dataset1.head(2)"
   ]
  },
  {
   "cell_type": "markdown",
   "id": "9955a67f-7df6-4471-9ec3-8026e90986c7",
   "metadata": {},
   "source": [
    "``Perhatikan isi data pada kolom charges diatas ☝️``  \n",
    "- ``Tipe data tidak sesuai``\n",
    "- ``Mengandung titik (.) lebih dari satu``"
   ]
  },
  {
   "cell_type": "markdown",
   "id": "9cb25a4b-728b-4ee0-be2e-5a7315ce9838",
   "metadata": {},
   "source": [
    "6. Penanganan ``tipe data`` dan ``karakter khusus``"
   ]
  },
  {
   "cell_type": "markdown",
   "id": "35c3abf4-e837-4c17-9aa5-58eb1dad40d2",
   "metadata": {},
   "source": [
    "    a) Membuat fungsi"
   ]
  },
  {
   "cell_type": "code",
   "execution_count": null,
   "id": "30db06e1-1c70-4909-aa31-d3adf44552bc",
   "metadata": {},
   "outputs": [],
   "source": [
    "def format_charges(val):\n",
    "    if pd.isnull(val):\n",
    "        return val\n",
    "    val = str(val).replace('.', '')  # hapus semua titik (anggap pemisah ribuan)\n",
    "    if len(val) > 2:\n",
    "        return float(val[:-5] + '.' + val[-5:])  # sisipkan titik sebelum 5 digit terakhir\n",
    "    return float(val)"
   ]
  },
  {
   "cell_type": "markdown",
   "id": "09976a79-72a1-49be-b16d-b4e47f71a941",
   "metadata": {},
   "source": [
    "    b) Menggunakan fungsi"
   ]
  },
  {
   "cell_type": "code",
   "execution_count": null,
   "id": "9a05e2f2-9276-4258-a3f0-75f5ddd4e551",
   "metadata": {},
   "outputs": [],
   "source": [
    "dataset2 = dataset1.copy()\n",
    "dataset2['charges'] = dataset2['charges'].apply(format_charges)"
   ]
  },
  {
   "cell_type": "markdown",
   "id": "523d1cdc-cdcf-4a58-ae3c-71ea84208cda",
   "metadata": {},
   "source": [
    "    c) Menampilkan data"
   ]
  },
  {
   "cell_type": "code",
   "execution_count": null,
   "id": "057eb091-8bec-489b-a9e6-1b49897194ec",
   "metadata": {},
   "outputs": [],
   "source": [
    "dataset2.head()"
   ]
  },
  {
   "cell_type": "markdown",
   "id": "8cb74212-0435-4851-bd6b-e93664569390",
   "metadata": {},
   "source": [
    "7. Menampilkan informasi (Mengecek tipe data)"
   ]
  },
  {
   "cell_type": "code",
   "execution_count": null,
   "id": "f95176df-8418-4c41-9330-1de39dd8552f",
   "metadata": {},
   "outputs": [],
   "source": [
    "dataset2.info()"
   ]
  },
  {
   "cell_type": "markdown",
   "id": "0d114851-5cc3-4284-ad1c-000e58086ff0",
   "metadata": {},
   "source": [
    "8. Simpan dataset"
   ]
  },
  {
   "cell_type": "code",
   "execution_count": null,
   "id": "c2fa093e-3c0d-4ac5-9bc9-8cca7a7eb4ec",
   "metadata": {},
   "outputs": [],
   "source": [
    "dataset2.to_csv(\"insurance.csv\", index = False)"
   ]
  },
  {
   "cell_type": "markdown",
   "id": "1c1e4886-e605-4f4a-842f-68ce7ae7ae09",
   "metadata": {},
   "source": [
    "> Pastikan dataset *``insurance.csv``* berhasil tersimpan di direktori saat ini!  \n",
    "\n",
    "👇"
   ]
  },
  {
   "cell_type": "code",
   "execution_count": null,
   "id": "5d32e367-f974-436f-b371-667a4ac571d0",
   "metadata": {},
   "outputs": [],
   "source": [
    "ls /b"
   ]
  },
  {
   "cell_type": "code",
   "execution_count": null,
   "id": "9ad2933b-8ed8-4011-959f-b4c7d4676667",
   "metadata": {},
   "outputs": [],
   "source": []
  },
  {
   "cell_type": "markdown",
   "id": "41c4f167-7334-4494-b6a6-7e66426e5074",
   "metadata": {},
   "source": [
    "## ``Melanjutkan Praktik``"
   ]
  },
  {
   "cell_type": "markdown",
   "id": "35de8670-2106-4273-9467-b0c6f4dfa001",
   "metadata": {},
   "source": [
    "> **Lanjut di kernel baru**  \n",
    "*``ini hanya melakukan sedikit cleaning data``*"
   ]
  },
  {
   "cell_type": "code",
   "execution_count": null,
   "id": "336e32cb-4d9a-4ffc-bf61-f86b94e840a7",
   "metadata": {},
   "outputs": [],
   "source": [
    "# import pandas as pd\n",
    "# import numpy as np"
   ]
  },
  {
   "cell_type": "code",
   "execution_count": null,
   "id": "20a3f14c-f2bf-4bb8-ab7d-530918a64ff4",
   "metadata": {},
   "outputs": [],
   "source": [
    "# dataset = pd.read_csv(\"insurance.csv\")\n",
    "# dataset.head(20)"
   ]
  },
  {
   "cell_type": "markdown",
   "id": "eca2e713-016d-478b-99fc-7aad3d7b2147",
   "metadata": {},
   "source": [
    ">  # 👨‍💻\n",
    "\n",
    "..."
   ]
  },
  {
   "cell_type": "code",
   "execution_count": null,
   "id": "fe808611-d682-47c8-9c56-75b48883ca4b",
   "metadata": {},
   "outputs": [],
   "source": []
  }
 ],
 "metadata": {
  "kernelspec": {
   "display_name": "Python 3 (ipykernel)",
   "language": "python",
   "name": "python3"
  },
  "language_info": {
   "codemirror_mode": {
    "name": "ipython",
    "version": 3
   },
   "file_extension": ".py",
   "mimetype": "text/x-python",
   "name": "python",
   "nbconvert_exporter": "python",
   "pygments_lexer": "ipython3",
   "version": "3.12.4"
  }
 },
 "nbformat": 4,
 "nbformat_minor": 5
}
