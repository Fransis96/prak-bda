{
 "cells": [
  {
   "cell_type": "markdown",
   "id": "9e34dabd-ea13-4f08-b86a-c254fa35640a",
   "metadata": {},
   "source": [
    "# LATIHAN"
   ]
  },
  {
   "cell_type": "markdown",
   "id": "46027758-a274-4406-bcd9-1df3afb114a6",
   "metadata": {},
   "source": [
    "Klik <a href=\"https://news.detik.com/internasional/d-7908459/misa-pelantikan-paus-leo-xiv-digelar-18-mei-di-vatikan\">disini</a> untuk mengunjungi situsnya."
   ]
  },
  {
   "cell_type": "code",
   "execution_count": 1,
   "id": "6f205853-9350-4a1d-8f3b-f03464fa4a15",
   "metadata": {},
   "outputs": [],
   "source": [
    "import requests\n",
    "from bs4 import BeautifulSoup\n",
    "\n",
    "url = \"https://sport.detik.com/moto-gp/d-7909163/sprint-race-motogp-prancis-2025-marc-marquez-juara-quartararo-keteteran\"\n",
    "response = requests.get(url)\n",
    "soup = BeautifulSoup(response.text, 'html.parser')\n",
    "\n",
    "articles = soup.find_all('article')\n",
    "\n",
    "# Ambil paragraf pertama\n",
    "paragraf = None\n",
    "for i, article in enumerate(articles, 1):\n",
    "    paragraphs = article.find_all('p')\n",
    "    if paragraphs:\n",
    "        paragraf = paragraphs[1].get_text(strip=True)\n",
    "        break"
   ]
  },
  {
   "cell_type": "code",
   "execution_count": 2,
   "id": "c2baaecf-52e4-4bbb-b8d6-e5d3e2ac0964",
   "metadata": {},
   "outputs": [
    {
     "name": "stdout",
     "output_type": "stream",
     "text": [
      "Sprint RaceMotoGP Prancis 2025berlangsung di sirkuit Le Mans, Sabtu (10/5/2025) malam WIB. Fabio Quartararo memulai dari posisi terdepan, dikepung dua bersaudara Marc Marquez dan Alex Marquez di posisi 2-3.\n"
     ]
    }
   ],
   "source": [
    "# Tampilkan paragraf pertama\n",
    "if paragraf:\n",
    "    print(paragraf)\n",
    "else:\n",
    "    print(\"Tidak ada paragraf ditemukan.\")"
   ]
  },
  {
   "cell_type": "code",
   "execution_count": 3,
   "id": "24495a62-df74-44d1-bc9b-82c450d59184",
   "metadata": {},
   "outputs": [
    {
     "name": "stderr",
     "output_type": "stream",
     "text": [
      "[nltk_data] Downloading package punkt to\n",
      "[nltk_data]     C:\\Users\\agnes\\AppData\\Roaming\\nltk_data...\n",
      "[nltk_data]   Package punkt is already up-to-date!\n"
     ]
    },
    {
     "data": {
      "text/plain": [
       "True"
      ]
     },
     "execution_count": 3,
     "metadata": {},
     "output_type": "execute_result"
    }
   ],
   "source": [
    "# Import modul\n",
    "\n",
    "import re\n",
    "import nltk\n",
    "from Sastrawi.Stemmer.StemmerFactory import StemmerFactory\n",
    "from nltk.tokenize import word_tokenize\n",
    "nltk.download('punkt')"
   ]
  },
  {
   "cell_type": "code",
   "execution_count": 4,
   "id": "03979de0-1279-42c2-ba3b-6c0d7244a2c5",
   "metadata": {},
   "outputs": [
    {
     "name": "stdout",
     "output_type": "stream",
     "text": [
      "sprint racemotogp prancis 2025berlangsung di sirkuit le mans, sabtu (10/5/2025) malam wib. fabio quartararo memulai dari posisi terdepan, dikepung dua bersaudara marc marquez dan alex marquez di posisi 2-3.\n"
     ]
    }
   ],
   "source": [
    "# 1. Case Folding (mengubah ke huruf kecil semua)\n",
    "paragraf = paragraf.lower()\n",
    "print(paragraf)"
   ]
  },
  {
   "cell_type": "code",
   "execution_count": 5,
   "id": "25ccbb86-36c9-4c77-8955-0681a18ca747",
   "metadata": {},
   "outputs": [
    {
     "name": "stdout",
     "output_type": "stream",
     "text": [
      "sprint racemotogp prancis berlangsung di sirkuit le mans sabtu  malam wib fabio quartararo memulai dari posisi terdepan dikepung dua bersaudara marc marquez dan alex marquez di posisi \n"
     ]
    }
   ],
   "source": [
    "# 2. Filtering (menghapus karakter selain huruf dan spasi)\n",
    "paragraf = re.sub(r'[^a-z\\s]', '', paragraf)\n",
    "print(paragraf)"
   ]
  },
  {
   "cell_type": "code",
   "execution_count": 6,
   "id": "7a396ebb-9fb3-4012-9c50-02bab57cee09",
   "metadata": {},
   "outputs": [
    {
     "name": "stdout",
     "output_type": "stream",
     "text": [
      "['sprint', 'racemotogp', 'prancis', 'berlangsung', 'di', 'sirkuit', 'le', 'mans', 'sabtu', 'malam', 'wib', 'fabio', 'quartararo', 'memulai', 'dari', 'posisi', 'terdepan', 'dikepung', 'dua', 'bersaudara', 'marc', 'marquez', 'dan', 'alex', 'marquez', 'di', 'posisi']\n"
     ]
    }
   ],
   "source": [
    "# 3. Tokenizing (memecah menjadi kata-kata)\n",
    "paragraf = word_tokenize(paragraf)\n",
    "print(paragraf)"
   ]
  },
  {
   "cell_type": "code",
   "execution_count": 7,
   "id": "bc284588-c69e-4e5e-a003-a3337f37d2e2",
   "metadata": {},
   "outputs": [
    {
     "name": "stdout",
     "output_type": "stream",
     "text": [
      "['sprint', 'racemotogp', 'prancis', 'langsung', 'di', 'sirkuit', 'le', 'mans', 'sabtu', 'malam', 'wib', 'fabio', 'quartararo', 'mulai', 'dari', 'posisi', 'depan', 'kepung', 'dua', 'saudara', 'marc', 'marquez', 'dan', 'alex', 'marquez', 'di', 'posisi']\n"
     ]
    }
   ],
   "source": [
    "# 4. Stemming (mengubah ke kata dasar)\n",
    "factory = StemmerFactory()\n",
    "stemmer = factory.create_stemmer()\n",
    "paragraf = [stemmer.stem(token) for token in paragraf]\n",
    "\n",
    "print(paragraf)"
   ]
  },
  {
   "cell_type": "code",
   "execution_count": null,
   "id": "922c9d38-1fcf-41ed-979f-af00e60e6756",
   "metadata": {},
   "outputs": [],
   "source": []
  },
  {
   "cell_type": "markdown",
   "id": "14bfb2fd-14ce-46af-9992-48f477fa6a10",
   "metadata": {},
   "source": [
    "<p> <hr> </p>\n",
    "<p> <hr> </p>\n",
    "<p> <hr> </p>\n",
    "<p> <hr> </p>\n",
    "<p> <hr> </p>"
   ]
  },
  {
   "cell_type": "markdown",
   "id": "f83f3ca9-34bb-4648-94fe-88a155b46128",
   "metadata": {},
   "source": [
    "<br><hr>\n",
    "<span>\n",
    "    <h1 style=\"color:red\"><b>TIDAK UNTUK DIKERJAKAN!</b></h1>\n",
    "    <code> ini diluar dari latihan</code>\n",
    "</span>"
   ]
  },
  {
   "cell_type": "code",
   "execution_count": null,
   "id": "b7a62820-c8f5-44c1-b8ea-8faa3a5a5dba",
   "metadata": {},
   "outputs": [],
   "source": [
    "import requests\n",
    "from bs4 import BeautifulSoup\n",
    "\n",
    "url = \"https://news.detik.com/internasional/d-7908459/misa-pelantikan-paus-leo-xiv-digelar-18-mei-di-vatikan\"\n",
    "response = requests.get(url, headers=headers)\n",
    "soup = BeautifulSoup(response.text, 'html.parser')\n",
    "\n",
    "articles = soup.find_all('article')\n",
    "\n",
    "for i, article in enumerate(articles, 1):\n",
    "    paragraphs = article.find_all('p')\n",
    "    for p in paragraphs:\n",
    "        print(f\"{p.get_text(strip=True)}\")"
   ]
  },
  {
   "cell_type": "code",
   "execution_count": null,
   "id": "d544d0ba-b777-4b84-8323-f88a3bad697c",
   "metadata": {},
   "outputs": [],
   "source": [
    "import requests\n",
    "from bs4 import BeautifulSoup\n",
    "\n",
    "url = \"https://news.detik.com/indeks\"\n",
    "\n",
    "response = requests.get(url)\n",
    "soup = BeautifulSoup(response.text, 'html.parser')\n",
    "judul_berita = soup.select('article h3')\n",
    "\n",
    "for i, judul in enumerate(judul_berita, 1):\n",
    "    print(f\"{i}. {judul.get_text(strip=True)}\")"
   ]
  },
  {
   "cell_type": "code",
   "execution_count": null,
   "id": "f1b41d4b-1fee-4434-b0f6-2fbc5d54dc2f",
   "metadata": {},
   "outputs": [],
   "source": []
  }
 ],
 "metadata": {
  "kernelspec": {
   "display_name": "Python 3 (ipykernel)",
   "language": "python",
   "name": "python3"
  },
  "language_info": {
   "codemirror_mode": {
    "name": "ipython",
    "version": 3
   },
   "file_extension": ".py",
   "mimetype": "text/x-python",
   "name": "python",
   "nbconvert_exporter": "python",
   "pygments_lexer": "ipython3",
   "version": "3.12.4"
  }
 },
 "nbformat": 4,
 "nbformat_minor": 5
}
