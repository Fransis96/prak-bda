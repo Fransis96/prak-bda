{
 "cells": [
  {
   "cell_type": "raw",
   "id": "5d225e39-13c6-4c28-8fcb-f5b450873915",
   "metadata": {},
   "source": [
    "Praktik 4"
   ]
  },
  {
   "cell_type": "code",
   "execution_count": 1,
   "id": "5989191b-f5a9-407d-a380-21eab94f06d7",
   "metadata": {},
   "outputs": [
    {
     "name": "stdout",
     "output_type": "stream",
     "text": [
      "Hasil Pertama : \n",
      "<!DOCTYPE html>\n",
      "<html>\n",
      "<head></head>\n",
      "<body>\n",
      "<h1>Web Scraping</h1>\n",
      "<a href=\"webku.html\">Link ke WebKu</a>\n",
      "</body>\n",
      "</html>\n",
      "\n",
      "Hasil Kedua : \n",
      "\n",
      "\n",
      "\n",
      "Web Scraping\n",
      "Link ke WebKu\n",
      "\n",
      "\n",
      "\n",
      "Hasil Ketiga : \n",
      "Web Scraping\n",
      "Link ke WebKu\n"
     ]
    }
   ],
   "source": [
    "from bs4 import BeautifulSoup\n",
    "\n",
    "htmltxt = '''\n",
    "<!DOCTYPE html>\n",
    "<html>\n",
    "<head></head>\n",
    "<body>\n",
    "<h1>Web Scraping</h1>\n",
    "<a href=\"webku.html\">Link ke WebKu</a>\n",
    "</body>\n",
    "</html>\n",
    "'''\n",
    "\n",
    "soup = BeautifulSoup(htmltxt, 'lxml')\n",
    "\n",
    "print(\"Hasil Pertama : \")\n",
    "print(soup)\n",
    "print('Hasil Kedua : ')\n",
    "print(soup.text)\n",
    "print(\"Hasil Ketiga : \")\n",
    "print(soup.text.strip())"
   ]
  },
  {
   "cell_type": "code",
   "execution_count": null,
   "id": "bd0eeeef-6621-43c2-8b60-38cfab234e6c",
   "metadata": {},
   "outputs": [],
   "source": []
  },
  {
   "cell_type": "raw",
   "id": "fb5fe1a2-e1c8-49a5-aa14-33653b77ce19",
   "metadata": {},
   "source": [
    "Praktik 5"
   ]
  },
  {
   "cell_type": "code",
   "execution_count": 2,
   "id": "e9fe6230-7d5d-404b-9d6c-5b9a41a53a5e",
   "metadata": {},
   "outputs": [
    {
     "name": "stdout",
     "output_type": "stream",
     "text": [
      "<h1>Web Scraping</h1>\n",
      "Web Scraping\n",
      "<a href=\"webku.html\">Link ke WebKu</a>\n",
      "Link ke WebKu\n",
      "webku.html\n"
     ]
    }
   ],
   "source": [
    "from bs4 import BeautifulSoup\n",
    "\n",
    "htmltxt = '''\n",
    "<!DOCTYPE html>\n",
    "<html>\n",
    "<head></head>\n",
    "<body>\n",
    "<h1>Web Scraping</h1>\n",
    "<a href=\"webku.html\">Link ke WebKu</a>\n",
    "</body>\n",
    "</html>\n",
    "'''\n",
    "\n",
    "soup = BeautifulSoup(htmltxt, 'lxml')\n",
    "\n",
    "print(soup.h1)\n",
    "print(soup.h1.text)\n",
    "print(soup.a)\n",
    "print(soup.a.text)\n",
    "print(soup.a['href'])"
   ]
  },
  {
   "cell_type": "raw",
   "id": "ee223b39-83a7-436b-8f00-092c436d791b",
   "metadata": {},
   "source": [
    "Praktik 6"
   ]
  },
  {
   "cell_type": "code",
   "execution_count": 3,
   "id": "e27e8cc7-901d-4491-a042-c58790774557",
   "metadata": {},
   "outputs": [
    {
     "name": "stdout",
     "output_type": "stream",
     "text": [
      ".ipynb_checkpoints\n",
      "Pertemuan5.ipynb\n",
      "tabel.html\n",
      "web1.html\n"
     ]
    }
   ],
   "source": [
    "ls /b"
   ]
  },
  {
   "cell_type": "code",
   "execution_count": 4,
   "id": "b32618a0-d9f0-4cfb-94aa-e7fe5e1e27a8",
   "metadata": {},
   "outputs": [
    {
     "name": "stdout",
     "output_type": "stream",
     "text": [
      "Ambil Text dari link : \n",
      "Link ke WebKu\n",
      "Ambil Text Paragraf : \n",
      " Paragraf 1 \n",
      "Ambil Data Paragraf : \n",
      "[<p> Paragraf 1 </p>, <p> Paragraf 2 </p>, <p> Paragraf 3 </p>, <p> Paragraf 4 </p>, <p> Paragraf 5 </p>, <p> Paragraf 6 </p>]\n"
     ]
    }
   ],
   "source": [
    "from bs4 import BeautifulSoup\n",
    "\n",
    "html = open(\"web1.html\", \"r\")\n",
    "\n",
    "s = BeautifulSoup(html, \"lxml\")\n",
    "\n",
    "print(\"Ambil Text dari link : \")\n",
    "print(s.find('a').text)\n",
    "print(\"Ambil Text Paragraf : \")\n",
    "print(s.find('p').text)\n",
    "print(\"Ambil Data Paragraf : \")\n",
    "print(s.find_all('p'))"
   ]
  },
  {
   "cell_type": "raw",
   "id": "f02af8db-163f-428a-b57d-83c08d43307d",
   "metadata": {},
   "source": [
    "Praktik 7"
   ]
  },
  {
   "cell_type": "code",
   "execution_count": 5,
   "id": "9ec50fc8-ca72-47ed-8f27-4f2c9d50e9b5",
   "metadata": {},
   "outputs": [
    {
     "name": "stdout",
     "output_type": "stream",
     "text": [
      "Ambil Text dari link di Class dua:\n",
      "Link ke WebMu\n"
     ]
    }
   ],
   "source": [
    "html = open(\"web1.html\", \"r\")\n",
    "\n",
    "soup = BeautifulSoup(html, \"lxml\")\n",
    "\n",
    "print(\"Ambil Text dari link di Class dua:\")\n",
    "d = soup.find(\"div\", attrs={'class': 'dua'})\n",
    "\n",
    "# d sekarang berisi script di dalam Class Dua\n",
    "link = d.find('a')\n",
    "print(link.text)"
   ]
  },
  {
   "cell_type": "raw",
   "id": "65e6fa1f-c739-463d-8cd8-47cfccf57db8",
   "metadata": {},
   "source": [
    "Praktik 8"
   ]
  },
  {
   "cell_type": "code",
   "execution_count": 6,
   "id": "21c311f6-697b-4fcc-bb37-95faf730e9d7",
   "metadata": {},
   "outputs": [
    {
     "name": "stdout",
     "output_type": "stream",
     "text": [
      "\n",
      "Ambil Text Semua Paragraf : \n",
      " Paragraf 1 \n",
      " Paragraf 2 \n",
      " Paragraf 3 \n",
      " Paragraf 4 \n",
      " Paragraf 5 \n",
      " Paragraf 6 \n",
      "\n",
      "\n",
      "Ambil text Paragraf di Class Satu\n",
      " Paragraf 5 \n",
      " Paragraf 6 \n"
     ]
    }
   ],
   "source": [
    "print()\n",
    "\n",
    "print(\"Ambil Text Semua Paragraf : \")\n",
    "all_p = s.find_all('p')\n",
    "for p in all_p:\n",
    "    print(p.text)\n",
    "\n",
    "print()\n",
    "print()\n",
    "\n",
    "print(\"Ambil text Paragraf di Class Satu\")\n",
    "d = s.find(\"div\", attrs={'class':'satu'})\n",
    "all_p = d.find_all('p')\n",
    "for p in all_p:\n",
    "    print(p.text)"
   ]
  },
  {
   "cell_type": "code",
   "execution_count": 7,
   "id": "deef17e5-2571-4448-9d9a-c94ae3219db8",
   "metadata": {},
   "outputs": [
    {
     "name": "stdout",
     "output_type": "stream",
     "text": [
      "Terpopuler dari Detik.com\n",
      "Judul : \n",
      "\n",
      " Kremasi Murdaya Poo di Ngaran Borobudur Ditolak Warga, Pemkab Mediasi \n",
      "\n",
      "Judul : \n",
      "\n",
      " Perjudian Sukses Ruben Amorim \n",
      "\n",
      "Judul : \n",
      "\n",
      " Biaya untuk Bikin Indomaret Sendiri di 2025, Termasuk Syaratnya \n",
      "\n",
      "Judul : \n",
      "\n",
      " MU 'Korbankan' Liga Inggris \n",
      "\n",
      "Judul : \n",
      "\n",
      " Gejala Batu Ginjal yang Bisa Terlihat saat Buang Air Kecil \n",
      "\n"
     ]
    }
   ],
   "source": [
    "from bs4 import BeautifulSoup\n",
    "import requests\n",
    "\n",
    "url = \"https://www.detik.com/\"\n",
    "# Ambil isi URL, masukkan ke variabel web\n",
    "web = requests.get(url).text\n",
    "# Parsing isi variabel web\n",
    "s = BeautifulSoup(web, \"lxml\")\n",
    "# Ambil kelas box cb-mostpop, karena hanya ada satu, cukup pakai find\n",
    "b = s.find('div', attrs={'class': 'box cb-mostpop'})\n",
    "# Di dalam kelas tersebut, temukan semua kelas='media__title'\n",
    "judul = b.find_all('h3', attrs={'class': 'media__title'})\n",
    "# Baca tiap bagian dari judul, dan tampilkan\n",
    "print(\"Terpopuler dari Detik.com\")\n",
    "for j in judul:\n",
    "    print(f'Judul : {j.text}')"
   ]
  },
  {
   "cell_type": "raw",
   "id": "b778504f-cb8b-415c-b889-720768e4ae1d",
   "metadata": {},
   "source": [
    "Praktik 12"
   ]
  },
  {
   "cell_type": "code",
   "execution_count": 8,
   "id": "e8f4405f-ada0-44c0-89fe-15f015585c2e",
   "metadata": {},
   "outputs": [
    {
     "name": "stdout",
     "output_type": "stream",
     "text": [
      "Jabatan : Manajer Tunjangan : 5.000.000\n",
      "Jabatan : Supervisor Tunjangan : 3.000.000\n",
      "Jabatan : Staf Tunjangan : 2.000.000\n"
     ]
    }
   ],
   "source": [
    "from bs4 import BeautifulSoup as bs\n",
    "\n",
    "html = open(\"tabel.html\", \"r\")\n",
    "\n",
    "s = bs(html, \"lxml\")\n",
    "\n",
    "tb = s.find(\"table\")\n",
    "\n",
    "tr = tb.find_all(\"tr\")\n",
    "for row in tr:\n",
    "    # Ambil semua td\n",
    "    td = row.find_all(\"td\")\n",
    "    if td:\n",
    "        # Baris pertama tr berisi th, jadi nilai td=False\n",
    "        # Maka perlu ada if td, agar yg ditampilkan\n",
    "        # Hanya yang ada isinya\n",
    "        # Tampilkan jabatan dan tunjangan saja\n",
    "        print(\"Jabatan :\", td[2].text, \"Tunjangan :\", td[3].text)"
   ]
  },
  {
   "cell_type": "code",
   "execution_count": null,
   "id": "60b4e839-ddf1-4522-8463-cc3e211c466d",
   "metadata": {},
   "outputs": [],
   "source": []
  },
  {
   "cell_type": "code",
   "execution_count": null,
   "id": "b26a9126-ea44-4484-8c77-2fb478d37368",
   "metadata": {},
   "outputs": [],
   "source": []
  },
  {
   "cell_type": "code",
   "execution_count": 9,
   "id": "7dfdcc72-0635-4470-9ddb-9dd1f6be9ab3",
   "metadata": {},
   "outputs": [
    {
     "name": "stdout",
     "output_type": "stream",
     "text": [
      "✔️ Berhasil disimpan...\n"
     ]
    }
   ],
   "source": [
    "import requests\n",
    "from bs4 import BeautifulSoup\n",
    "import xlwt\n",
    "\n",
    "# Ambil halaman\n",
    "url = \"https://www.frankana.de/de/multimedia/tv-wandhalterungen.html\"\n",
    "headers = {\"User-Agent\": \"Mozilla/5.0\"}\n",
    "res = requests.get(url, headers=headers)\n",
    "soup = BeautifulSoup(res.content, \"html.parser\")\n",
    "\n",
    "# Temukan semua blok produk\n",
    "products = soup.find_all(\"div\", class_=\"product-item-info\")\n",
    "\n",
    "# Buat file Excel\n",
    "workbook = xlwt.Workbook()\n",
    "sheet = workbook.add_sheet(\"Product List\")\n",
    "sheet.write(0, 0, \"Product Name\")\n",
    "sheet.write(0, 1, \"Price\")\n",
    "\n",
    "# Isi data produk\n",
    "for index, product in enumerate(products, start=1):\n",
    "    name_tag = product.find(\"a\", class_=\"product-item-link\")\n",
    "    price_tag = product.find(\"span\", class_=\"price\")\n",
    "\n",
    "    name = name_tag.get_text(strip=True) if name_tag else \"N/A\"\n",
    "    price = price_tag.get_text(strip=True) if price_tag else \"N/A\"\n",
    "\n",
    "    sheet.write(index, 0, name)\n",
    "    sheet.write(index, 1, price)\n",
    "\n",
    "# Simpan file Excel\n",
    "workbook.save(\"product_list.xls\")\n",
    "print(\"✔️ Berhasil disimpan...\")"
   ]
  },
  {
   "cell_type": "code",
   "execution_count": 11,
   "id": "d92cae6d-ce48-4d43-acac-7f65321af044",
   "metadata": {},
   "outputs": [
    {
     "name": "stdout",
     "output_type": "stream",
     "text": [
      ".ipynb_checkpoints\n",
      "Pertemuan5.ipynb\n",
      "product_list.xls\n",
      "tabel.html\n",
      "web1.html\n"
     ]
    }
   ],
   "source": [
    "ls /b"
   ]
  },
  {
   "cell_type": "code",
   "execution_count": null,
   "id": "4d8af673-10d6-4a2a-84ac-ee3f76af5aea",
   "metadata": {},
   "outputs": [],
   "source": []
  }
 ],
 "metadata": {
  "kernelspec": {
   "display_name": "Python 3 (ipykernel)",
   "language": "python",
   "name": "python3"
  },
  "language_info": {
   "codemirror_mode": {
    "name": "ipython",
    "version": 3
   },
   "file_extension": ".py",
   "mimetype": "text/x-python",
   "name": "python",
   "nbconvert_exporter": "python",
   "pygments_lexer": "ipython3",
   "version": "3.12.4"
  }
 },
 "nbformat": 4,
 "nbformat_minor": 5
}
