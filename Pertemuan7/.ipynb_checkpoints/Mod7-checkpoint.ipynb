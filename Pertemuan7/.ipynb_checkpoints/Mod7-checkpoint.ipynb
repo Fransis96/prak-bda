{
 "cells": [
  {
   "cell_type": "markdown",
   "id": "1e5d2826-6a60-47aa-83b2-fddaad02bb6b",
   "metadata": {},
   "source": [
    "1. Install modul Sastrawi, nltk, stopwords dan string.\n",
    "   \n",
    "   <img src=\"\" alt=\"gambar1\">"
   ]
  },
  {
   "cell_type": "markdown",
   "id": "42ab417f-1dfd-45fd-ac47-122ee677bed1",
   "metadata": {},
   "source": [
    "2. Untuk memastikan installasi berhasil\n",
    "\n",
    "   <img src=\"\" alt=\"gambar2\">"
   ]
  },
  {
   "cell_type": "markdown",
   "id": "065b6a4e-00f0-443a-b163-42c96bc3c815",
   "metadata": {},
   "source": [
    "3. Tahap preprocessing untuk data kosong\n",
    "   - Ambil data yang yang ada di modul 3  (insurance.csv dan data3 csv)\n",
    "   - Tampilkan 20 data insurance.csv dan semua data3.csv"
   ]
  },
  {
   "cell_type": "code",
   "execution_count": null,
   "id": "3350868a-d899-483d-9340-0420d7538188",
   "metadata": {},
   "outputs": [],
   "source": [
    "import pandas as pd\n",
    "import numpy as np\n",
    "\n",
    "data_olah = \"insurance.csv\"\n",
    "dataset = pd.read_csv(data_olah)\n",
    "dataset.head()"
   ]
  },
  {
   "cell_type": "markdown",
   "id": "5ae451fc-845a-4c5b-a91f-5616ef2b68a8",
   "metadata": {},
   "source": [
    "``TERDAPAT NILAI NaN dan TYPE YANG TIDAK SESUAI``"
   ]
  },
  {
   "cell_type": "markdown",
   "id": "2fa55d11-04d8-435e-b3af-a3a8fdfecd1f",
   "metadata": {},
   "source": [
    "2. Identifikasi missing values"
   ]
  },
  {
   "cell_type": "code",
   "execution_count": null,
   "id": "482b60b1-602b-4f1e-a01d-ee9c31b9302e",
   "metadata": {},
   "outputs": [],
   "source": [
    "# print(\"Jumlah missing values disetiap kolom: \")\n",
    "# print(dataset.isnull().sum())"
   ]
  },
  {
   "cell_type": "markdown",
   "id": "b71b4a93-4926-4715-9de0-ed35fdff393c",
   "metadata": {},
   "source": [
    "3. Hitung persentase missing values disetiap kolom"
   ]
  },
  {
   "cell_type": "code",
   "execution_count": null,
   "id": "d2217a41-f885-4874-b415-d4845172a7b4",
   "metadata": {},
   "outputs": [],
   "source": [
    "# persentase_missing = dataset.isnull().sum() / len(dataset) * 100\n",
    "\n",
    "# print(\"Persentase missing values disetiap kolom :\")\n",
    "# print(persentase_missing)"
   ]
  },
  {
   "cell_type": "markdown",
   "id": "0847f181-46ab-47c7-a856-0095e632aba4",
   "metadata": {},
   "source": [
    "<fieldset style=\"width: 500px;\">\n",
    "\n",
    "> Karena jumlah missing values disetiap kolom sedikit, jadi  \n",
    "**``kita lakukan drop untuk menghapus baris yang mengandung missing values``** \n",
    "    \n",
    "</fieldset>"
   ]
  },
  {
   "cell_type": "markdown",
   "id": "de66c537-5c80-4853-b00f-ee349c730d46",
   "metadata": {},
   "source": [
    "4. Penanganan ``missing values``"
   ]
  },
  {
   "cell_type": "code",
   "execution_count": null,
   "id": "7804d936-ffda-4cdd-9405-ac503323b7bf",
   "metadata": {},
   "outputs": [],
   "source": [
    "# Menghapus baris yang mengandung missing values\n",
    "#dataset1 = dataset.dropna()"
   ]
  },
  {
   "cell_type": "markdown",
   "id": "5d081cef-2ead-4aae-bb28-27d8936867b0",
   "metadata": {},
   "source": [
    "``Pengecekan ulang``"
   ]
  },
  {
   "cell_type": "code",
   "execution_count": null,
   "id": "6f01f2a3-c125-4acc-9323-3a8c537602da",
   "metadata": {},
   "outputs": [],
   "source": [
    "# print(\"Jumlah missing values disetiap kolom: \")\n",
    "# print(dataset1.isnull().sum())"
   ]
  },
  {
   "cell_type": "markdown",
   "id": "b5854764-1f1a-4d9d-9149-fe7850e0ef8d",
   "metadata": {},
   "source": [
    "5. Melihat informasi ``dataset1``"
   ]
  },
  {
   "cell_type": "code",
   "execution_count": null,
   "id": "49772232-eea0-4660-98b3-0d1997b0b746",
   "metadata": {},
   "outputs": [],
   "source": [
    "# dataset1.info()"
   ]
  },
  {
   "cell_type": "markdown",
   "id": "246c9419-2955-4163-89d1-00a7fe5947c9",
   "metadata": {},
   "source": [
    "``Tipe data pada kolom charges``**``belum sesuai``**"
   ]
  },
  {
   "cell_type": "code",
   "execution_count": null,
   "id": "665e7548-5b61-42a8-aae6-d57dd1f1cab8",
   "metadata": {},
   "outputs": [],
   "source": [
    "# dataset1.head(2)"
   ]
  },
  {
   "cell_type": "markdown",
   "id": "df37e3f6-2a4a-4011-96dd-ad0b53acf6f3",
   "metadata": {},
   "source": [
    "# Praktik"
   ]
  },
  {
   "cell_type": "markdown",
   "id": "4617b7ef-3b1e-48e5-a5ff-4a60ebc3b89c",
   "metadata": {},
   "source": [
    "1. Install modul ``Sastrawi``, ``nltk``, ``stopwords`` dan ``string``.\n",
    "\n",
    "   <img src=\"\" alt=\"image1\">"
   ]
  },
  {
   "cell_type": "markdown",
   "id": "55adee10-65f7-4c2f-a8d4-71ab0b450b2f",
   "metadata": {},
   "source": [
    "2. Untuk memastikan installasi berhasil,\n",
    "\n",
    "   <img src=\"\" alt=\"image2\">"
   ]
  },
  {
   "cell_type": "markdown",
   "id": "1a575645-d283-49d6-a7c5-c8900bff147a",
   "metadata": {},
   "source": [
    "3. Tahap preprocessing untuk data kosong:\n",
    "   - Ambil data yang yang ada di modul 3  (insurance.csv dan data3 csv)\n",
    "   - Tampilkan 20 data insurance.csv dan semua data3.csv"
   ]
  },
  {
   "cell_type": "code",
   "execution_count": 1,
   "id": "0c69c931-08a5-4aa5-a488-96fb2c00b5da",
   "metadata": {},
   "outputs": [
    {
     "data": {
      "text/html": [
       "<div>\n",
       "<style scoped>\n",
       "    .dataframe tbody tr th:only-of-type {\n",
       "        vertical-align: middle;\n",
       "    }\n",
       "\n",
       "    .dataframe tbody tr th {\n",
       "        vertical-align: top;\n",
       "    }\n",
       "\n",
       "    .dataframe thead th {\n",
       "        text-align: right;\n",
       "    }\n",
       "</style>\n",
       "<table border=\"1\" class=\"dataframe\">\n",
       "  <thead>\n",
       "    <tr style=\"text-align: right;\">\n",
       "      <th></th>\n",
       "      <th>age</th>\n",
       "      <th>sex</th>\n",
       "      <th>bmi</th>\n",
       "      <th>children</th>\n",
       "      <th>smoker</th>\n",
       "      <th>region</th>\n",
       "      <th>charges</th>\n",
       "    </tr>\n",
       "  </thead>\n",
       "  <tbody>\n",
       "    <tr>\n",
       "      <th>0</th>\n",
       "      <td>19</td>\n",
       "      <td>female</td>\n",
       "      <td>27.900</td>\n",
       "      <td>0.0</td>\n",
       "      <td>yes</td>\n",
       "      <td>southwest</td>\n",
       "      <td>168.84924</td>\n",
       "    </tr>\n",
       "    <tr>\n",
       "      <th>1</th>\n",
       "      <td>18</td>\n",
       "      <td>male</td>\n",
       "      <td>33.770</td>\n",
       "      <td>NaN</td>\n",
       "      <td>no</td>\n",
       "      <td>southeast</td>\n",
       "      <td>172.55523</td>\n",
       "    </tr>\n",
       "    <tr>\n",
       "      <th>2</th>\n",
       "      <td>28</td>\n",
       "      <td>male</td>\n",
       "      <td>33.000</td>\n",
       "      <td>3.0</td>\n",
       "      <td>no</td>\n",
       "      <td>northwest</td>\n",
       "      <td>44.49462</td>\n",
       "    </tr>\n",
       "    <tr>\n",
       "      <th>3</th>\n",
       "      <td>33</td>\n",
       "      <td>female</td>\n",
       "      <td>22.705</td>\n",
       "      <td>0.0</td>\n",
       "      <td>no</td>\n",
       "      <td>northwest</td>\n",
       "      <td>21984.47061</td>\n",
       "    </tr>\n",
       "    <tr>\n",
       "      <th>4</th>\n",
       "      <td>32</td>\n",
       "      <td>male</td>\n",
       "      <td>28.880</td>\n",
       "      <td>0.0</td>\n",
       "      <td>no</td>\n",
       "      <td>northwest</td>\n",
       "      <td>386.68552</td>\n",
       "    </tr>\n",
       "    <tr>\n",
       "      <th>5</th>\n",
       "      <td>31</td>\n",
       "      <td>female</td>\n",
       "      <td>NaN</td>\n",
       "      <td>0.0</td>\n",
       "      <td>no</td>\n",
       "      <td>southeast</td>\n",
       "      <td>375.66216</td>\n",
       "    </tr>\n",
       "    <tr>\n",
       "      <th>6</th>\n",
       "      <td>46</td>\n",
       "      <td>female</td>\n",
       "      <td>33.440</td>\n",
       "      <td>1.0</td>\n",
       "      <td>no</td>\n",
       "      <td>NaN</td>\n",
       "      <td>824.05896</td>\n",
       "    </tr>\n",
       "    <tr>\n",
       "      <th>7</th>\n",
       "      <td>37</td>\n",
       "      <td>female</td>\n",
       "      <td>27.740</td>\n",
       "      <td>3.0</td>\n",
       "      <td>no</td>\n",
       "      <td>northwest</td>\n",
       "      <td>728.15056</td>\n",
       "    </tr>\n",
       "    <tr>\n",
       "      <th>8</th>\n",
       "      <td>37</td>\n",
       "      <td>male</td>\n",
       "      <td>29.830</td>\n",
       "      <td>2.0</td>\n",
       "      <td>no</td>\n",
       "      <td>NaN</td>\n",
       "      <td>640.64107</td>\n",
       "    </tr>\n",
       "    <tr>\n",
       "      <th>9</th>\n",
       "      <td>60</td>\n",
       "      <td>female</td>\n",
       "      <td>25.840</td>\n",
       "      <td>0.0</td>\n",
       "      <td>no</td>\n",
       "      <td>northwest</td>\n",
       "      <td>28923.13692</td>\n",
       "    </tr>\n",
       "    <tr>\n",
       "      <th>10</th>\n",
       "      <td>25</td>\n",
       "      <td>male</td>\n",
       "      <td>26.220</td>\n",
       "      <td>0.0</td>\n",
       "      <td>no</td>\n",
       "      <td>northeast</td>\n",
       "      <td>272.13208</td>\n",
       "    </tr>\n",
       "    <tr>\n",
       "      <th>11</th>\n",
       "      <td>62</td>\n",
       "      <td>NaN</td>\n",
       "      <td>26.290</td>\n",
       "      <td>0.0</td>\n",
       "      <td>yes</td>\n",
       "      <td>southeast</td>\n",
       "      <td>2780.87251</td>\n",
       "    </tr>\n",
       "    <tr>\n",
       "      <th>12</th>\n",
       "      <td>23</td>\n",
       "      <td>male</td>\n",
       "      <td>34.400</td>\n",
       "      <td>0.0</td>\n",
       "      <td>no</td>\n",
       "      <td>southwest</td>\n",
       "      <td>18.26843</td>\n",
       "    </tr>\n",
       "    <tr>\n",
       "      <th>13</th>\n",
       "      <td>56</td>\n",
       "      <td>female</td>\n",
       "      <td>39.820</td>\n",
       "      <td>0.0</td>\n",
       "      <td>no</td>\n",
       "      <td>southeast</td>\n",
       "      <td>1109.07178</td>\n",
       "    </tr>\n",
       "    <tr>\n",
       "      <th>14</th>\n",
       "      <td>27</td>\n",
       "      <td>male</td>\n",
       "      <td>42.130</td>\n",
       "      <td>0.0</td>\n",
       "      <td>yes</td>\n",
       "      <td>southeast</td>\n",
       "      <td>3961.17577</td>\n",
       "    </tr>\n",
       "    <tr>\n",
       "      <th>15</th>\n",
       "      <td>19</td>\n",
       "      <td>male</td>\n",
       "      <td>24.600</td>\n",
       "      <td>1.0</td>\n",
       "      <td>no</td>\n",
       "      <td>southwest</td>\n",
       "      <td>18.37237</td>\n",
       "    </tr>\n",
       "    <tr>\n",
       "      <th>16</th>\n",
       "      <td>52</td>\n",
       "      <td>female</td>\n",
       "      <td>30.780</td>\n",
       "      <td>1.0</td>\n",
       "      <td>no</td>\n",
       "      <td>northeast</td>\n",
       "      <td>1079.73362</td>\n",
       "    </tr>\n",
       "    <tr>\n",
       "      <th>17</th>\n",
       "      <td>23</td>\n",
       "      <td>male</td>\n",
       "      <td>23.845</td>\n",
       "      <td>0.0</td>\n",
       "      <td>no</td>\n",
       "      <td>northeast</td>\n",
       "      <td>2395.17155</td>\n",
       "    </tr>\n",
       "    <tr>\n",
       "      <th>18</th>\n",
       "      <td>56</td>\n",
       "      <td>male</td>\n",
       "      <td>40.300</td>\n",
       "      <td>0.0</td>\n",
       "      <td>no</td>\n",
       "      <td>southwest</td>\n",
       "      <td>106.02385</td>\n",
       "    </tr>\n",
       "    <tr>\n",
       "      <th>19</th>\n",
       "      <td>30</td>\n",
       "      <td>male</td>\n",
       "      <td>35.300</td>\n",
       "      <td>0.0</td>\n",
       "      <td>yes</td>\n",
       "      <td>southwest</td>\n",
       "      <td>368.37467</td>\n",
       "    </tr>\n",
       "  </tbody>\n",
       "</table>\n",
       "</div>"
      ],
      "text/plain": [
       "    age     sex     bmi  children smoker     region      charges\n",
       "0    19  female  27.900       0.0    yes  southwest    168.84924\n",
       "1    18    male  33.770       NaN     no  southeast    172.55523\n",
       "2    28    male  33.000       3.0     no  northwest     44.49462\n",
       "3    33  female  22.705       0.0     no  northwest  21984.47061\n",
       "4    32    male  28.880       0.0     no  northwest    386.68552\n",
       "5    31  female     NaN       0.0     no  southeast    375.66216\n",
       "6    46  female  33.440       1.0     no        NaN    824.05896\n",
       "7    37  female  27.740       3.0     no  northwest    728.15056\n",
       "8    37    male  29.830       2.0     no        NaN    640.64107\n",
       "9    60  female  25.840       0.0     no  northwest  28923.13692\n",
       "10   25    male  26.220       0.0     no  northeast    272.13208\n",
       "11   62     NaN  26.290       0.0    yes  southeast   2780.87251\n",
       "12   23    male  34.400       0.0     no  southwest     18.26843\n",
       "13   56  female  39.820       0.0     no  southeast   1109.07178\n",
       "14   27    male  42.130       0.0    yes  southeast   3961.17577\n",
       "15   19    male  24.600       1.0     no  southwest     18.37237\n",
       "16   52  female  30.780       1.0     no  northeast   1079.73362\n",
       "17   23    male  23.845       0.0     no  northeast   2395.17155\n",
       "18   56    male  40.300       0.0     no  southwest    106.02385\n",
       "19   30    male  35.300       0.0    yes  southwest    368.37467"
      ]
     },
     "execution_count": 1,
     "metadata": {},
     "output_type": "execute_result"
    }
   ],
   "source": [
    "# Preprocessing untuk missing value\n",
    "\n",
    "import pandas as pd\n",
    "import numpy as np\n",
    "\n",
    "data_olah = \"insurance1.csv\"\n",
    "dataset = pd.read_csv(data_olah)\n",
    "dataset.head(20)"
   ]
  },
  {
   "cell_type": "markdown",
   "id": "02a84c14-9be5-4536-94d2-c72646f4db0d",
   "metadata": {},
   "source": [
    "<fieldset style=\"width: 600px; border: none; text-align: justify;\">\n",
    "    \n",
    "4. Data pada insurance diatas terdapat missing value (data kosong) yang ditandai dengan “NaN” pada beberapa kolom/atribut/field. Data ini akan menjadi masalah besar dalam pengolahan data apabila jumlah missing data banyak sekali. Sebelum dilakukan pengolahan data sebaiknya dilakukan pengecekan data missing value pada dataset yang kita miliki dengan coding dan output sebagai berikut :\n",
    "\n",
    "</fieldset>"
   ]
  },
  {
   "cell_type": "code",
   "execution_count": 2,
   "id": "a40d37e0-786e-4540-99d5-ed00edd1d1c6",
   "metadata": {},
   "outputs": [
    {
     "data": {
      "text/plain": [
       "age         0\n",
       "sex         1\n",
       "bmi         1\n",
       "children    1\n",
       "smoker      0\n",
       "region      2\n",
       "charges     0\n",
       "dtype: int64"
      ]
     },
     "execution_count": 2,
     "metadata": {},
     "output_type": "execute_result"
    }
   ],
   "source": [
    "dataset.isnull().sum()"
   ]
  },
  {
   "cell_type": "markdown",
   "id": "9527b389-a68a-4782-a4a7-5f24286ec8dc",
   "metadata": {},
   "source": [
    "<hr>\n",
    "\n",
    "Memanggil dataset dengan nama  ``data3.csv``"
   ]
  },
  {
   "cell_type": "code",
   "execution_count": 3,
   "id": "18cfe685-ee04-4073-ba73-4031cba5fb72",
   "metadata": {},
   "outputs": [
    {
     "data": {
      "text/html": [
       "<div>\n",
       "<style scoped>\n",
       "    .dataframe tbody tr th:only-of-type {\n",
       "        vertical-align: middle;\n",
       "    }\n",
       "\n",
       "    .dataframe tbody tr th {\n",
       "        vertical-align: top;\n",
       "    }\n",
       "\n",
       "    .dataframe thead th {\n",
       "        text-align: right;\n",
       "    }\n",
       "</style>\n",
       "<table border=\"1\" class=\"dataframe\">\n",
       "  <thead>\n",
       "    <tr style=\"text-align: right;\">\n",
       "      <th></th>\n",
       "      <th>Nilai UTS</th>\n",
       "      <th>Nilai UAS</th>\n",
       "    </tr>\n",
       "  </thead>\n",
       "  <tbody>\n",
       "    <tr>\n",
       "      <th>0</th>\n",
       "      <td>80.0</td>\n",
       "      <td>87.0</td>\n",
       "    </tr>\n",
       "    <tr>\n",
       "      <th>1</th>\n",
       "      <td>78.0</td>\n",
       "      <td>81.0</td>\n",
       "    </tr>\n",
       "    <tr>\n",
       "      <th>2</th>\n",
       "      <td>72.0</td>\n",
       "      <td>70.0</td>\n",
       "    </tr>\n",
       "    <tr>\n",
       "      <th>3</th>\n",
       "      <td>68.0</td>\n",
       "      <td>65.0</td>\n",
       "    </tr>\n",
       "    <tr>\n",
       "      <th>4</th>\n",
       "      <td>78.0</td>\n",
       "      <td>90.0</td>\n",
       "    </tr>\n",
       "    <tr>\n",
       "      <th>5</th>\n",
       "      <td>NaN</td>\n",
       "      <td>78.0</td>\n",
       "    </tr>\n",
       "    <tr>\n",
       "      <th>6</th>\n",
       "      <td>90.0</td>\n",
       "      <td>87.0</td>\n",
       "    </tr>\n",
       "    <tr>\n",
       "      <th>7</th>\n",
       "      <td>76.0</td>\n",
       "      <td>78.0</td>\n",
       "    </tr>\n",
       "    <tr>\n",
       "      <th>8</th>\n",
       "      <td>73.0</td>\n",
       "      <td>81.0</td>\n",
       "    </tr>\n",
       "    <tr>\n",
       "      <th>9</th>\n",
       "      <td>66.0</td>\n",
       "      <td>88.0</td>\n",
       "    </tr>\n",
       "    <tr>\n",
       "      <th>10</th>\n",
       "      <td>89.0</td>\n",
       "      <td>NaN</td>\n",
       "    </tr>\n",
       "    <tr>\n",
       "      <th>11</th>\n",
       "      <td>75.0</td>\n",
       "      <td>86.0</td>\n",
       "    </tr>\n",
       "  </tbody>\n",
       "</table>\n",
       "</div>"
      ],
      "text/plain": [
       "    Nilai UTS  Nilai UAS\n",
       "0        80.0       87.0\n",
       "1        78.0       81.0\n",
       "2        72.0       70.0\n",
       "3        68.0       65.0\n",
       "4        78.0       90.0\n",
       "5         NaN       78.0\n",
       "6        90.0       87.0\n",
       "7        76.0       78.0\n",
       "8        73.0       81.0\n",
       "9        66.0       88.0\n",
       "10       89.0        NaN\n",
       "11       75.0       86.0"
      ]
     },
     "execution_count": 3,
     "metadata": {},
     "output_type": "execute_result"
    }
   ],
   "source": [
    "datamiss = \"data3.csv\"\n",
    "data = pd.read_csv(datamiss)\n",
    "data"
   ]
  },
  {
   "cell_type": "markdown",
   "id": "3532560f-2087-4ecb-a424-703292de875f",
   "metadata": {},
   "source": [
    "<hr/>\n",
    "Untuk cek missing value"
   ]
  },
  {
   "cell_type": "code",
   "execution_count": 4,
   "id": "b99c7abd-6660-4c37-b767-ead96d01ebcb",
   "metadata": {},
   "outputs": [
    {
     "data": {
      "text/plain": [
       "Nilai UTS    1\n",
       "Nilai UAS    1\n",
       "dtype: int64"
      ]
     },
     "execution_count": 4,
     "metadata": {},
     "output_type": "execute_result"
    }
   ],
   "source": [
    "# checking missing values\n",
    "data.isnull().sum()"
   ]
  },
  {
   "cell_type": "code",
   "execution_count": null,
   "id": "7c768edb-62f9-4e32-b54b-18aca0eaa66d",
   "metadata": {},
   "outputs": [],
   "source": []
  }
 ],
 "metadata": {
  "kernelspec": {
   "display_name": "Python 3 (ipykernel)",
   "language": "python",
   "name": "python3"
  },
  "language_info": {
   "codemirror_mode": {
    "name": "ipython",
    "version": 3
   },
   "file_extension": ".py",
   "mimetype": "text/x-python",
   "name": "python",
   "nbconvert_exporter": "python",
   "pygments_lexer": "ipython3",
   "version": "3.12.4"
  }
 },
 "nbformat": 4,
 "nbformat_minor": 5
}
